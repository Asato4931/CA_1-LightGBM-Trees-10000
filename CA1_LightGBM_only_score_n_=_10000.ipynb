{
  "cells": [
    {
      "cell_type": "markdown",
      "metadata": {
        "id": "view-in-github",
        "colab_type": "text"
      },
      "source": [
        "<a href=\"https://colab.research.google.com/github/Asato4931/CA_1-LightGBM-Trees-10000/blob/main/CA1_LightGBM_only_score_n_%3D_10000.ipynb\" target=\"_parent\"><img src=\"https://colab.research.google.com/assets/colab-badge.svg\" alt=\"Open In Colab\"/></a>"
      ]
    },
    {
      "cell_type": "code",
      "execution_count": null,
      "metadata": {
        "id": "Jj_cQ8olsK9J",
        "colab": {
          "base_uri": "https://localhost:8080/"
        },
        "outputId": "38058c9a-cfd3-49ed-f9ff-c6dcb804a696"
      },
      "outputs": [
        {
          "output_type": "stream",
          "name": "stdout",
          "text": [
            "------------------------ lightGBM Result Summary\n",
            "              precision    recall  f1-score   support\n",
            "\n",
            "           1       0.96      0.95      0.96     42577\n",
            "           2       0.96      0.97      0.97     56478\n",
            "           3       0.96      0.97      0.96      7062\n",
            "           4       0.91      0.88      0.89       561\n",
            "           5       0.94      0.87      0.90      1937\n",
            "           6       0.95      0.93      0.94      3521\n",
            "           7       0.98      0.96      0.97      4067\n",
            "\n",
            "    accuracy                           0.96    116203\n",
            "   macro avg       0.95      0.93      0.94    116203\n",
            "weighted avg       0.96      0.96      0.96    116203\n",
            "\n",
            "0.9602075677908488\n"
          ]
        }
      ],
      "source": [
        "from sklearn import preprocessing\n",
        "import numpy as np\n",
        "\n",
        "\n",
        "\n",
        "from sklearn import metrics\n",
        "import pandas as pd\n",
        "\n",
        "from sklearn import ensemble\n",
        "from sklearn.model_selection import train_test_split\n",
        "\n",
        "import lightgbm as lgb\n",
        "\n",
        "\n",
        "######################データの前処理#####################\n",
        "\n",
        "#ヘッダー無しのデータ読み込み\n",
        "data = pd.read_csv(\"/content/drive/MyDrive/Colab Notebooks/CA課題用/CA課題1/covtype.data\", header=None)\n",
        "#data = pd.read_csv(\"C:/Users/81806/Desktop/CA課題1/covtype.data\", header=None)\n",
        "#print(data)\n",
        "\n",
        "#data = data.sample(frac=1, random_state = 2023)\n",
        "\n",
        "#x_train,x_test,y_train,y_test 分割＆yはonehot化\n",
        "\n",
        "train_x = data.iloc[:, :-1]\n",
        "train_y = data.iloc[:, 54:55]\n",
        "\n",
        "\n",
        "X_train, X_test,y_train,y_test = train_test_split(train_x, train_y, test_size = 0.2, random_state = 2023)\n",
        "\n",
        "\n",
        "model = lgb.LGBMClassifier(boosting_type = 'goss', num_leaves = 64, max_depth = 6, random_state = 2023, \n",
        "                           n_estimators = 10000, \n",
        "                           learning_rate = 0.04,\n",
        "                           reg_alpha = 0.2,\n",
        "                           reg_lambda = 0.2)\n",
        "\n",
        "\n",
        "\n",
        "model.fit(X_train,y_train.values.ravel())\n",
        "y_rf = model.predict(X_test)\n",
        "\n",
        "\n",
        "\n",
        "\n",
        "\n",
        "print(\"------------------------ lightGBM Result Summary\")\n",
        "print( metrics.classification_report(y_test, y_rf) )\n",
        "\n",
        "score = metrics.accuracy_score(y_test, y_rf)\n",
        "print(score)\n",
        "\n",
        "\n"
      ]
    }
  ],
  "metadata": {
    "colab": {
      "provenance": [],
      "mount_file_id": "1p-mSZvH_0PCM7cxzM32wEUAs6wdjurp-",
      "authorship_tag": "ABX9TyOXh0yBU/HDdCg0qr3d6X5E",
      "include_colab_link": true
    },
    "kernelspec": {
      "display_name": "Python 3",
      "name": "python3"
    },
    "language_info": {
      "name": "python"
    }
  },
  "nbformat": 4,
  "nbformat_minor": 0
}